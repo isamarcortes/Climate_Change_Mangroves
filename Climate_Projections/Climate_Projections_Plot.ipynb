{
  "nbformat": 4,
  "nbformat_minor": 0,
  "metadata": {
    "colab": {
      "name": "Climate_Projections_Plot.ipynb",
      "provenance": []
    },
    "kernelspec": {
      "name": "python3",
      "display_name": "Python 3"
    },
    "language_info": {
      "name": "python"
    }
  },
  "cells": [
    {
      "cell_type": "code",
      "metadata": {
        "id": "JFjZe0tiA76e"
      },
      "source": [
        "from google.colab import files\n",
        "uploaded = files.upload()"
      ],
      "execution_count": null,
      "outputs": []
    },
    {
      "cell_type": "code",
      "metadata": {
        "id": "DA0XSkXFCPEz"
      },
      "source": [
        "import seaborn as sns\n",
        "import pandas as pd\n",
        "import numpy as np\n",
        "import matplotlib.pyplot as plt\n"
      ],
      "execution_count": null,
      "outputs": []
    },
    {
      "cell_type": "code",
      "metadata": {
        "id": "LD_of444Ciq6"
      },
      "source": [
        "Test = pd.read_excel('/content/Future_Enet.xlsx',sheet_name='Sheet2')\n",
        "print(Test)"
      ],
      "execution_count": null,
      "outputs": []
    },
    {
      "cell_type": "code",
      "metadata": {
        "id": "1Wy9_X50qUks"
      },
      "source": [
        "#plt.figure(figsize=(10,8))\n",
        "fig, axes = plt.subplots(2, 2,figsize=(18,19))\n",
        "\n",
        "sns.boxplot(ax=axes[0,0],x='Region', y= 'RCP2_6', data=Test,hue='Year',color=\"red\")\n",
        "axes[0,0].set_title('RCP 2.6',size = 24)\n",
        "axes[0,0].set_xlabel('Region',size=20)\n",
        "axes[0,0].set_ylabel('Av % Change',size=20)\n",
        "axes[0,0].tick_params(axis='both', labelsize= 14)\n",
        "\n",
        "sns.boxplot(ax=axes[0,1],x='Region', y= 'RCP4_5', data=Test,hue='Year',color=\"red\")\n",
        "axes[0,1].set_title('RCP 4.5',size = 24)\n",
        "axes[0,1].set_xlabel('Region',size=20)\n",
        "axes[0,1].set_ylabel('Av % Change',size=20)\n",
        "axes[0,1].tick_params(axis='both', labelsize= 14)\n",
        "\n",
        "sns.boxplot(ax=axes[1,0],x='Region', y= 'RCP7_0', data=Test,hue='Year',color=\"red\")\n",
        "axes[1,0].set_title('RCP 7.0',size = 24)\n",
        "axes[1,0].set_xlabel('Region',size=20)\n",
        "axes[1,0].set_ylabel('Av % Change',size=20)\n",
        "axes[1,0].tick_params(axis='both', labelsize= 14)\n",
        "\n",
        "sns.boxplot(ax=axes[1,1],x='Region', y= 'RCP8_5', data=Test,hue='Year',color=\"red\")\n",
        "axes[1,1].set_title('RCP 8.5',size = 24)\n",
        "axes[1,1].set_xlabel('Region',size=20)\n",
        "axes[1,1].set_ylabel('Av % Change',size=20)\n",
        "axes[1,1].tick_params(axis='both', labelsize= 14)\n",
        "\n",
        "\n",
        "\n",
        "fig.add_subplot(111, frameon=False)\n",
        "# hide tick and tick label of the big axis\n",
        "plt.tick_params(labelcolor='none', which='both', top=False, bottom=False, left=False, right=False)\n",
        "\n",
        "#plt.tick_params(labelsize=15)\n",
        "#plt.xlabel(\"Region\",size=30)\n",
        "#plt.ylabel(\"Percent Loss\",size = 30)\n",
        "\n",
        "plt.savefig('/content/sample_data/test.png',dpi=600)"
      ],
      "execution_count": null,
      "outputs": []
    },
    {
      "cell_type": "code",
      "metadata": {
        "id": "U3e1YcGSEM5o"
      },
      "source": [
        "#plt.figure(figsize=(10,8))\n",
        "fig, axes = plt.subplots(2, 2,figsize=(14,10))\n",
        "\n",
        "sns.boxplot(ax=axes[0,0],x='Region', y= 'RCP2_6High', data=Test,color=\"green\")\n",
        "sns.boxplot(ax=axes[0,0],x='Region', y= 'RCP2_6_Avg', data=Test,color=\"blue\")\n",
        "sns.boxplot(ax=axes[0,0],x='Region', y= 'RCP2_6_Low', data=Test,color='red')\n",
        "axes[0,0].set_title('RCP 2.6',size = 20)\n",
        "axes[0,0].set_xlabel('')\n",
        "axes[0,0].set_ylabel('')\n",
        "axes[0,0].tick_params(axis='both', labelsize= 14)\n",
        "\n",
        "sns.boxplot(ax=axes[0,1],x='Region', y= 'RCP4_5_High', data=Test,color=\"green\")\n",
        "sns.boxplot(ax=axes[0,1],x='Region', y= 'RCP4_5_Avg', data=Test,color=\"blue\")\n",
        "sns.boxplot(ax=axes[0,1],x='Region', y= 'RCP4_5_Low', data=Test,color='red')\n",
        "axes[0,1].set_title('RCP 4.5',size = 20)\n",
        "axes[0,1].set_xlabel('')\n",
        "axes[0,1].set_ylabel('')\n",
        "axes[0,1].tick_params(axis='both', labelsize= 14)\n",
        "\n",
        "sns.boxplot(ax=axes[1,0],x='Region', y= 'RCP7_0_High', data=Test,color=\"green\")\n",
        "sns.boxplot(ax=axes[1,0],x='Region', y= 'RCP7_0_Avg', data=Test,color=\"blue\")\n",
        "sns.boxplot(ax=axes[1,0],x='Region', y= 'RCP7_0_Low', data=Test,color='red')\n",
        "axes[1,0].set_title('RCP 7.0',size = 20)\n",
        "axes[1,0].set_xlabel('')\n",
        "axes[1,0].set_ylabel('')\n",
        "axes[1,0].tick_params(axis='both', labelsize= 14)\n",
        "\n",
        "sns.boxplot(ax=axes[1,1],x='Region', y= 'RCP8_5_High', data=Test,color=\"green\")\n",
        "sns.boxplot(ax=axes[1,1],x='Region', y= 'RCP8_5_Avg', data=Test,color=\"blue\")\n",
        "sns.boxplot(ax=axes[1,1],x='Region', y= 'RCP8_5_Low', data=Test,color='red')\n",
        "axes[1,1].set_title('RCP 8.5',size = 20)\n",
        "axes[1,1].set_xlabel('')\n",
        "axes[1,1].set_ylabel('')\n",
        "axes[1,1].tick_params(axis='both', labelsize= 14)\n",
        "\n",
        "\n",
        "\n",
        "fig.add_subplot(111, frameon=False)\n",
        "# hide tick and tick label of the big axis\n",
        "plt.tick_params(labelcolor='none', which='both', top=False, bottom=False, left=False, right=False)\n",
        "\n",
        "#plt.tick_params(labelsize=15)\n",
        "plt.xlabel(\"Region\",size=30)\n",
        "plt.ylabel(\"Percent Loss\",size = 30)\n",
        "\n",
        "#plt.savefig('/content/sample_data/test.png',dpi=600)"
      ],
      "execution_count": null,
      "outputs": []
    },
    {
      "cell_type": "code",
      "metadata": {
        "id": "FqqTDzKPCoGB"
      },
      "source": [
        "plt.figure(figsize=(10,8))\n",
        "sns.boxplot(x='Region', y= 'RCP_4.5_High', data=Test,color=\"green\",linewidth=0)\n",
        "sns.boxplot(x='Region', y= 'RCP_4.5_Median', data=Test,color=\"blue\",linewidth=0)\n",
        "sns.boxplot(x='Region', y= 'RCP_4.5_Low', data=Test,color='red',linewidth=0)\n",
        "plt.ylabel('Av Percent Loss',size=15)\n",
        "plt.xlabel('Region',size=15)\n",
        "plt.xticks(rotation=45,size=13)\n",
        "plt.yticks(size=13)\n",
        "plt.legend()"
      ],
      "execution_count": null,
      "outputs": []
    },
    {
      "cell_type": "code",
      "metadata": {
        "id": "I65GJwrRCqRV"
      },
      "source": [
        "plt.figure(figsize=(10,8))\n",
        "sns.boxplot(x='Region', y= 'RCP_2.6_High', data=Test,color=\"green\",linewidth=0)\n",
        "sns.boxplot(x='Region', y= 'RCP_2.6_Median', data=Test,color=\"blue\",linewidth=0)\n",
        "sns.boxplot(x='Region', y= 'RCP_2.6_Low', data=Test,color='red',linewidth=0)\n",
        "plt.ylabel('Av Percent Loss',size=15)\n",
        "plt.xlabel('Region',size=15)\n",
        "plt.xticks(rotation=45,size=13)\n",
        "plt.yticks(size=13)\n",
        "plt.legend()"
      ],
      "execution_count": null,
      "outputs": []
    }
  ]
}