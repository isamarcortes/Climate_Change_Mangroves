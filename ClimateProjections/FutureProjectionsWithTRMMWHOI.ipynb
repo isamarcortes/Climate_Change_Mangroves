{
 "cells": [
  {
   "cell_type": "markdown",
   "id": "996f5651",
   "metadata": {},
   "source": [
    "# Using TRMM and WHOI for past climate data in Future Projections\n",
    "This code is use to explore using TRMM and WHOI data as past data to explore percent change"
   ]
  },
  {
   "cell_type": "code",
   "execution_count": null,
   "id": "d33a956c",
   "metadata": {},
   "outputs": [],
   "source": [
    "\n",
    "import numpy as np\n",
    "import pandas as pd\n",
    "import matplotlib.pyplot as plt\n",
    "import seaborn as sns"
   ]
  },
  {
   "cell_type": "markdown",
   "id": "4a54cc7d",
   "metadata": {},
   "source": [
    "## Future Evap"
   ]
  },
  {
   "cell_type": "code",
   "execution_count": 49,
   "id": "0ab17d87",
   "metadata": {},
   "outputs": [],
   "source": [
    "#####data sets to combine\n",
    "FGOALS_Evap = '/Users/isamarcortes/Dropbox/Isamar/Papers_In_Prep/Paper_1/SupplementaryMaterial/ClimateProjectionsData/FGOALS3/EvaporationRates.xlsx'\n",
    "GFDL_Evap = '/Users/isamarcortes/Dropbox/Isamar/Papers_In_Prep/Paper_1/SupplementaryMaterial/ClimateProjectionsData/GFDL_ESM4/GFDL_Evaporation.xlsx'\n",
    "EC_EarthEvap = '/Users/isamarcortes/Dropbox/Isamar/Papers_In_Prep/Paper_1/SupplementaryMaterial/ClimateProjectionsData/EC-Earth3/EC-EarthEvap.xlsx'\n"
   ]
  },
  {
   "cell_type": "code",
   "execution_count": 50,
   "id": "d2118433",
   "metadata": {},
   "outputs": [],
   "source": [
    "def dataRead(data):\n",
    "    '''\n",
    "    This function serves to read in all of \n",
    "    the regions of interest as dataframes\n",
    "    '''\n",
    "    PR = pd.read_excel(data,sheet_name='PuertoRico')\n",
    "    PR = PR.dropna()\n",
    "    VZ = pd.read_excel(data,sheet_name='Venezuela')\n",
    "    VZ = VZ.dropna()\n",
    "    BH = pd.read_excel(data,sheet_name='Bahamas')\n",
    "    BH = BH.dropna()\n",
    "    BZ = pd.read_excel(data,sheet_name='Belize')\n",
    "    BZ = BZ.dropna()\n",
    "    CB = pd.read_excel(data,sheet_name='Cuba')\n",
    "    CB = CB.dropna()\n",
    "    MX = pd.read_excel(data,sheet_name='Mexico')\n",
    "    MX = MX.dropna()\n",
    "    FL = pd.read_excel(data,sheet_name='Florida')\n",
    "    FL = FL.dropna()\n",
    "\n",
    "    \n",
    "    return PR, VZ, BH, BZ, CB, MX, FL"
   ]
  },
  {
   "cell_type": "code",
   "execution_count": 51,
   "id": "8538fb14",
   "metadata": {},
   "outputs": [],
   "source": [
    "##Data Read\n",
    "PR_FGoals, VZ_FGoals, BH_FGoals, BZ_FGoals, CB_FGoals, MX_FGoals, FL_FGoals=dataRead(FGOALS_Evap) ##FGOALS\n",
    "PR_GFDL, VZ_GFDL, BH_GFDL, BZ_GFDL, CB_GFDL, MX_GFDL, FL_GFDL=dataRead(GFDL_Evap) ##GFDL\n",
    "PR_EC, VZ_EC, BH_EC, BZ_EC, CB_EC, MX_EC, FL_EC=dataRead(EC_EarthEvap) ##EC_EarthEvap"
   ]
  },
  {
   "cell_type": "code",
   "execution_count": 69,
   "id": "52a8a423",
   "metadata": {},
   "outputs": [
    {
     "name": "stdout",
     "output_type": "stream",
     "text": [
      "2.830148655076818\n",
      "2.8987590988928122\n",
      "2.9536098080400714\n"
     ]
    }
   ],
   "source": [
    "print(np.mean(CB_FGoals['E26_Year']))\n",
    "print(np.mean(CB_FGoals['E45_Year']))\n",
    "print(np.mean(CB_FGoals['E70_Year']))"
   ]
  },
  {
   "cell_type": "code",
   "execution_count": 53,
   "id": "95225ed5",
   "metadata": {},
   "outputs": [],
   "source": [
    "##### Get evaporation data\n",
    "\n",
    "\n",
    "def getEvap(FGoals,GFDL,EC):\n",
    "    '''\n",
    "    This function works to take all \n",
    "    of the evaporation data for SSP 2.6,\n",
    "    SSP 4.5 and SSP 7.0 and average the \n",
    "    3 models\n",
    "    '''\n",
    "    E26_F= np.array(FGoals['E26_Year'])\n",
    "    E26_G = np.array(GFDL['E26_Year'])\n",
    "    E26_EC = np.array(EC['E26_Year'])\n",
    "    Evap26 = np.mean(np.array([E26_F,E26_G,E26_EC]))\n",
    "    \n",
    "    E45_F= np.array(FGoals['E45_Year'])\n",
    "    E45_G = np.array(GFDL['E45_Year'])\n",
    "    E45_EC = np.array(EC['E45_Year'])\n",
    "    Evap45 = np.mean(np.array([E45_F,E45_G,E45_EC]))\n",
    "    \n",
    "    E70_F= np.array(FGoals['E70_Year'])\n",
    "    E70_G = np.array(GFDL['E70_Year'])\n",
    "    E70_EC = np.array(EC['E70_Year'])\n",
    "    Evap70 = np.mean(np.array([E70_F,E70_G,E70_EC])) \n",
    "    \n",
    "    return Evap26, Evap45, Evap70\n",
    "    "
   ]
  },
  {
   "cell_type": "code",
   "execution_count": 54,
   "id": "b7355176",
   "metadata": {},
   "outputs": [],
   "source": [
    "###future Evap\n",
    "\n",
    "PR26E,PR45E,PR70E = getEvap(PR_FGoals,PR_GFDL,PR_EC)\n",
    "VZ26E,VZ45E,VZ70E = getEvap(VZ_FGoals,VZ_GFDL,VZ_EC)\n",
    "BH26E,BH45E,BH70E = getEvap(BH_FGoals,BH_GFDL,BH_EC)\n",
    "BZ26E,BZ45E,BZ70E = getEvap(BZ_FGoals,BZ_GFDL,BZ_EC)\n",
    "MX26E,MX45E,MX70E = getEvap(MX_FGoals,MX_GFDL,MX_EC)\n",
    "FL26E,FL45E,FL70E = getEvap(FL_FGoals,FL_GFDL,FL_EC)\n",
    "CB26E,CB45E,CB70E = getEvap(CB_FGoals,CB_GFDL,CB_EC)\n"
   ]
  },
  {
   "cell_type": "code",
   "execution_count": 42,
   "id": "deb3ab55",
   "metadata": {},
   "outputs": [
    {
     "data": {
      "text/plain": [
       "(2.4180458906798266, 2.469060155813332, 2.513738590867047)"
      ]
     },
     "execution_count": 42,
     "metadata": {},
     "output_type": "execute_result"
    }
   ],
   "source": []
  },
  {
   "cell_type": "code",
   "execution_count": 55,
   "id": "c395d52e",
   "metadata": {},
   "outputs": [],
   "source": [
    "PrecipData = '/Users/isamarcortes/Dropbox/Isamar/Papers_In_Prep/Paper_1/SupplementaryMaterial/ClimateProjectionsData/PrecipitationDataAllThree.xlsx'\n",
    "def readPrecip(data):\n",
    "    GFDL26 = pd.read_excel(data,sheet_name='GFDL_26')\n",
    "    GFDL26= GFDL26.dropna()\n",
    "    GFDL45 = pd.read_excel(data,sheet_name='GFDL_45')\n",
    "    GFDL45= GFDL45.dropna()\n",
    "    GFDL70 = pd.read_excel(data,sheet_name='GFDL_70')\n",
    "    GFDL70= GFDL70.dropna()\n",
    "        \n",
    "    FGOALS26 = pd.read_excel(data,sheet_name='FGOALS_26')\n",
    "    FGOALS26 = FGOALS26.dropna()\n",
    "    FGOALS45 = pd.read_excel(data,sheet_name='FGOALS_45')\n",
    "    FGOALS45 = FGOALS45.dropna()\n",
    "    FGOALS70 = pd.read_excel(data,sheet_name='FGOALS_70')\n",
    "    FGOALS70 = FGOALS70.dropna()\n",
    "    \n",
    "    ECEarth_26 = pd.read_excel(data,sheet_name='ECEarth_26')\n",
    "    ECEarth_26 = ECEarth_26.dropna()\n",
    "    ECEarth_45 = pd.read_excel(data,sheet_name='ECEarth_45') \n",
    "    ECEarth_45 = ECEarth_45.dropna()\n",
    "    ECEarth_70 = pd.read_excel(data,sheet_name='ECEarth_70')\n",
    "    ECEarth_70 = ECEarth_70.dropna()\n",
    "        \n",
    "    return GFDL26, GFDL45, GFDL70, FGOALS26, FGOALS45, FGOALS70, ECEarth_26, ECEarth_45, ECEarth_70"
   ]
  },
  {
   "cell_type": "code",
   "execution_count": 56,
   "id": "50ddf0d8",
   "metadata": {},
   "outputs": [],
   "source": [
    "GFDL26, GFDL45, GFDL70, FGOALS26, FGOALS45, FGOALS70, ECEarth_26, ECEarth_45, ECEarth_70 = readPrecip(PrecipData)"
   ]
  },
  {
   "cell_type": "code",
   "execution_count": 57,
   "id": "9f80a338",
   "metadata": {},
   "outputs": [],
   "source": [
    "###calculate future values\n",
    "PR26_P = np.mean(np.array([GFDL26['Puerto Rico'],FGOALS26['Puerto Rico'],ECEarth_26['Puerto Rico']]))/1000\n",
    "PR45_P = np.mean(np.array([GFDL45['Puerto Rico'],FGOALS45['Puerto Rico'],ECEarth_45['Puerto Rico']]))/1000\n",
    "PR70_P = np.mean(np.array([GFDL70['Puerto Rico'],FGOALS70['Puerto Rico'],ECEarth_70['Puerto Rico']]))/1000\n",
    "\n",
    "VZ26_P = np.mean(np.array([GFDL26['Venezuela'],FGOALS26['Venezuela'],ECEarth_26['Venezuela']]))/1000\n",
    "VZ45_P = np.mean(np.array([GFDL45['Venezuela'],FGOALS45['Venezuela'],ECEarth_45['Venezuela']]))/1000\n",
    "VZ70_P = np.mean(np.array([GFDL70['Venezuela'],FGOALS70['Venezuela'],ECEarth_70['Venezuela']]))/1000\n",
    "\n",
    "MX26_P = np.mean(np.array([GFDL26['Mexico'],FGOALS26['Mexico'],ECEarth_26['Mexico']]))/1000\n",
    "MX45_P = np.mean(np.array([GFDL45['Mexico'],FGOALS45['Mexico'],ECEarth_45['Mexico']]))/1000\n",
    "MX70_P = np.mean(np.array([GFDL70['Mexico'],FGOALS70['Mexico'],ECEarth_70['Mexico']]))/1000\n",
    "\n",
    "BZ26_P = np.mean(np.array([GFDL26['Belize'],FGOALS26['Belize'],ECEarth_26['Belize']]))/1000\n",
    "BZ45_P = np.mean(np.array([GFDL45['Belize'],FGOALS45['Belize'],ECEarth_45['Belize']]))/1000\n",
    "BZ70_P = np.mean(np.array([GFDL70['Belize'],FGOALS70['Belize'],ECEarth_70['Belize']]))/1000\n",
    "\n",
    "BH26_P = np.mean(np.array([GFDL26['Bahamas'],FGOALS26['Bahamas'],ECEarth_26['Bahamas']]))/1000\n",
    "BH45_P = np.mean(np.array([GFDL45['Bahamas'],FGOALS45['Bahamas'],ECEarth_45['Bahamas']]))/1000\n",
    "BH70_P = np.mean(np.array([GFDL70['Bahamas'],FGOALS70['Bahamas'],ECEarth_70['Bahamas']]))/1000\n",
    "\n",
    "FL26_P = np.mean(np.array([GFDL26['Florida'],FGOALS26['Florida'],ECEarth_26['Florida']]))/1000\n",
    "FL45_P = np.mean(np.array([GFDL45['Florida'],FGOALS45['Florida'],ECEarth_45['Florida']]))/1000\n",
    "FL70_P = np.mean(np.array([GFDL70['Florida'],FGOALS70['Florida'],ECEarth_70['Florida']]))/1000\n",
    "\n",
    "CB26_P = np.mean(np.array([GFDL26['Cuba'],FGOALS26['Cuba'],ECEarth_26['Cuba']]))/1000\n",
    "CB45_P = np.mean(np.array([GFDL45['Cuba'],FGOALS45['Cuba'],ECEarth_45['Cuba']]))/1000\n",
    "CB70_P = np.mean(np.array([GFDL70['Cuba'],FGOALS70['Cuba'],ECEarth_70['Cuba']]))/1000"
   ]
  },
  {
   "cell_type": "code",
   "execution_count": 58,
   "id": "7c71afd6",
   "metadata": {},
   "outputs": [
    {
     "data": {
      "text/plain": [
       "2.378651743393005"
      ]
     },
     "execution_count": 58,
     "metadata": {},
     "output_type": "execute_result"
    }
   ],
   "source": [
    "### Future Enet\n",
    "EnetPR26_Future = (PR26E-PR26_P)\n",
    "EnetPR45_Future = (PR45E-PR45_P)\n",
    "EnetPR70_Future = (PR70E-PR70_P)\n",
    "\n",
    "EnetVZ26_Future = (VZ26E-VZ26_P)\n",
    "EnetVZ45_Future = (VZ45E-VZ45_P)\n",
    "EnetVZ70_Future = (VZ70E-VZ70_P)\n",
    "\n",
    "EnetBZ26_Future = (BZ26E-BZ26_P)\n",
    "EnetBZ45_Future = (BZ45E-BZ45_P)\n",
    "EnetBZ70_Future = (BZ70E-BZ70_P)\n",
    "\n",
    "EnetBH26_Future = (BH26E-BH26_P)\n",
    "EnetBH45_Future = (BH45E-BH45_P)\n",
    "EnetBH70_Future = (BH70E-BH70_P)\n",
    "\n",
    "EnetCB26_Future = (CB26E-CB26_P)\n",
    "EnetCB45_Future = (CB45E-CB45_P)\n",
    "EnetCB70_Future = (CB70E-CB70_P)\n",
    "\n",
    "EnetFL26_Future = (FL26E-FL26_P)\n",
    "EnetFL45_Future = (FL45E-FL45_P)\n",
    "EnetFL70_Future = (FL70E-FL70_P)\n",
    "\n",
    "EnetMX26_Future = (MX26E-MX26_P)\n",
    "EnetMX45_Future = (MX45E-MX45_P)\n",
    "EnetMX70_Future = (MX70E-MX70_P)\n",
    "\n",
    "\n",
    "EnetPR26_Future"
   ]
  },
  {
   "cell_type": "markdown",
   "id": "ba6af084",
   "metadata": {},
   "source": [
    "## Past Enet"
   ]
  },
  {
   "cell_type": "code",
   "execution_count": 59,
   "id": "aadf6c8d",
   "metadata": {},
   "outputs": [
    {
     "name": "stdout",
     "output_type": "stream",
     "text": [
      "1.1525372859258889 0.318873811925705 0.920389313799055 0.9800915437628999 0.863352875403797 0.716822198068465 1.0291596190535\n"
     ]
    }
   ],
   "source": [
    "Past_Enet_TRMMWhoi = pd.read_excel('/Users/isamarcortes/Dropbox/Isamar/Papers_In_Prep/Paper_1/SupplementaryMaterial/DatabaseFinalized.xlsx')\n",
    "\n",
    "\n",
    "PR_Past = Past_Enet_TRMMWhoi['Enet (m/yr)'].values[1]\n",
    "BZ_Past = Past_Enet_TRMMWhoi['Enet (m/yr)'].values[6]\n",
    "MX_Past = Past_Enet_TRMMWhoi['Enet (m/yr)'].values[7]\n",
    "FL_Past = Past_Enet_TRMMWhoi['Enet (m/yr)'].values[9]\n",
    "BH_Past = Past_Enet_TRMMWhoi['Enet (m/yr)'].values[14]\n",
    "VZ_Past = Past_Enet_TRMMWhoi['Enet (m/yr)'].values[15]\n",
    "CB_Past = Past_Enet_TRMMWhoi['Enet (m/yr)'].values[17]\n",
    "\n",
    "print(PR_Past,BZ_Past,MX_Past,FL_Past,BH_Past,VZ_Past,CB_Past)"
   ]
  },
  {
   "cell_type": "code",
   "execution_count": 60,
   "id": "acf15a02",
   "metadata": {},
   "outputs": [],
   "source": [
    "## Percent change\n",
    "Percent26PR = ((EnetPR26_Future-PR_Past)/ EnetPR26_Future)*-100\n",
    "Percent45PR = ((EnetPR45_Future-PR_Past)/ EnetPR45_Future)*-100\n",
    "Percent70PR = ((EnetPR70_Future-PR_Past)/ EnetPR70_Future)*-100\n",
    "\n",
    "Percent26BZ = ((EnetBZ26_Future-BZ_Past)/ EnetBZ26_Future)*-100\n",
    "Percent45BZ = ((EnetBZ45_Future-BZ_Past)/ EnetBZ45_Future)*-100\n",
    "Percent70BZ = ((EnetBZ70_Future-BZ_Past)/ EnetBZ70_Future)*-100\n",
    "\n",
    "Percent26BH = ((EnetBH26_Future-BH_Past)/ EnetBH26_Future)*-100\n",
    "Percent45BH = ((EnetBH45_Future-BH_Past)/ EnetBH45_Future)*-100\n",
    "Percent70BH = ((EnetBH70_Future-BH_Past)/ EnetBH70_Future)*-100\n",
    "\n",
    "Percent26MX = ((EnetMX26_Future-MX_Past)/ EnetMX26_Future)*-100\n",
    "Percent45MX = ((EnetMX45_Future-MX_Past)/ EnetMX45_Future)*-100\n",
    "Percent70MX = ((EnetMX70_Future-MX_Past)/ EnetMX70_Future)*-100\n",
    "\n",
    "Percent26FL = ((EnetFL26_Future-FL_Past)/ EnetFL26_Future)*-100\n",
    "Percent45FL = ((EnetFL45_Future-FL_Past)/ EnetFL45_Future)*-100\n",
    "Percent70FL = ((EnetFL70_Future-FL_Past)/ EnetFL70_Future)*-100\n",
    "\n",
    "Percent26CB = ((EnetCB26_Future-CB_Past)/ EnetCB26_Future)*-100\n",
    "Percent45CB = ((EnetCB45_Future-CB_Past)/ EnetCB45_Future)*-100\n",
    "Percent70CB = ((EnetCB70_Future-CB_Past)/ EnetCB70_Future)*-100\n",
    "\n",
    "Percent26VZ = ((EnetVZ26_Future-VZ_Past)/ EnetVZ26_Future)*-100\n",
    "Percent45VZ = ((EnetVZ45_Future-VZ_Past)/ EnetVZ45_Future)*-100\n",
    "Percent70VZ = ((EnetVZ70_Future-VZ_Past)/ EnetVZ70_Future)*-100\n",
    "\n",
    "\n",
    "Dataset = [['Puerto Rico',Percent26PR,'SSP 2.6'],['Puerto Rico',Percent45PR,'SSP 4.5'],['Puerto Rico',Percent70PR,'SSP 7.0'],\n",
    "           ['Belize',Percent26BZ,'SSP 2.6'],['Belize',Percent45BZ,'SSP 4.5'],['Belize',Percent70BZ,'SSP 7.0'],\n",
    "           ['Bahamas',Percent26BH,'SSP 2.6'],['Bahamas',Percent45BH,'SSP 4.5'],['Bahamas',Percent70BH,'SSP 7.0'],\n",
    "           ['Mexico',Percent26MX,'SSP 2.6'],['Mexico',Percent45MX,'SSP 4.5'],['Mexico',Percent70MX,'SSP 7.0'],\n",
    "           ['Florida',Percent26FL,'SSP 2.6'],['Florida',Percent45FL,'SSP 4.5'],['Florida',Percent70FL,'SSP 7.0'],\n",
    "           ['Cuba',Percent26CB,'SSP 2.6'],['Cuba',Percent45CB,'SSP 4.5'],['Cuba',Percent70CB,'SSP 7.0'],\n",
    "           ['Venezuela',Percent26VZ,'SSP 2.6'],['Venezuela',Percent45VZ,'SSP 4.5'],['Venezuela',Percent70VZ,'SSP 7.0'],\n",
    "          ]"
   ]
  },
  {
   "cell_type": "code",
   "execution_count": 61,
   "id": "d9e68749",
   "metadata": {},
   "outputs": [
    {
     "data": {
      "text/html": [
       "<div>\n",
       "<style scoped>\n",
       "    .dataframe tbody tr th:only-of-type {\n",
       "        vertical-align: middle;\n",
       "    }\n",
       "\n",
       "    .dataframe tbody tr th {\n",
       "        vertical-align: top;\n",
       "    }\n",
       "\n",
       "    .dataframe thead th {\n",
       "        text-align: right;\n",
       "    }\n",
       "</style>\n",
       "<table border=\"1\" class=\"dataframe\">\n",
       "  <thead>\n",
       "    <tr style=\"text-align: right;\">\n",
       "      <th></th>\n",
       "      <th>Region</th>\n",
       "      <th>Percent Change</th>\n",
       "      <th>SSP Scenario</th>\n",
       "    </tr>\n",
       "  </thead>\n",
       "  <tbody>\n",
       "    <tr>\n",
       "      <th>0</th>\n",
       "      <td>Puerto Rico</td>\n",
       "      <td>-51.546615</td>\n",
       "      <td>SSP 2.6</td>\n",
       "    </tr>\n",
       "    <tr>\n",
       "      <th>1</th>\n",
       "      <td>Puerto Rico</td>\n",
       "      <td>-52.519568</td>\n",
       "      <td>SSP 4.5</td>\n",
       "    </tr>\n",
       "    <tr>\n",
       "      <th>2</th>\n",
       "      <td>Puerto Rico</td>\n",
       "      <td>-53.587666</td>\n",
       "      <td>SSP 7.0</td>\n",
       "    </tr>\n",
       "    <tr>\n",
       "      <th>3</th>\n",
       "      <td>Belize</td>\n",
       "      <td>-87.162752</td>\n",
       "      <td>SSP 2.6</td>\n",
       "    </tr>\n",
       "    <tr>\n",
       "      <th>4</th>\n",
       "      <td>Belize</td>\n",
       "      <td>-87.534271</td>\n",
       "      <td>SSP 4.5</td>\n",
       "    </tr>\n",
       "    <tr>\n",
       "      <th>5</th>\n",
       "      <td>Belize</td>\n",
       "      <td>-87.795111</td>\n",
       "      <td>SSP 7.0</td>\n",
       "    </tr>\n",
       "    <tr>\n",
       "      <th>6</th>\n",
       "      <td>Bahamas</td>\n",
       "      <td>-68.067605</td>\n",
       "      <td>SSP 2.6</td>\n",
       "    </tr>\n",
       "    <tr>\n",
       "      <th>7</th>\n",
       "      <td>Bahamas</td>\n",
       "      <td>-68.814419</td>\n",
       "      <td>SSP 4.5</td>\n",
       "    </tr>\n",
       "    <tr>\n",
       "      <th>8</th>\n",
       "      <td>Bahamas</td>\n",
       "      <td>-69.470903</td>\n",
       "      <td>SSP 7.0</td>\n",
       "    </tr>\n",
       "    <tr>\n",
       "      <th>9</th>\n",
       "      <td>Mexico</td>\n",
       "      <td>-67.957907</td>\n",
       "      <td>SSP 2.6</td>\n",
       "    </tr>\n",
       "    <tr>\n",
       "      <th>10</th>\n",
       "      <td>Mexico</td>\n",
       "      <td>-68.750289</td>\n",
       "      <td>SSP 4.5</td>\n",
       "    </tr>\n",
       "    <tr>\n",
       "      <th>11</th>\n",
       "      <td>Mexico</td>\n",
       "      <td>-67.771176</td>\n",
       "      <td>SSP 7.0</td>\n",
       "    </tr>\n",
       "    <tr>\n",
       "      <th>12</th>\n",
       "      <td>Florida</td>\n",
       "      <td>-67.986359</td>\n",
       "      <td>SSP 2.6</td>\n",
       "    </tr>\n",
       "    <tr>\n",
       "      <th>13</th>\n",
       "      <td>Florida</td>\n",
       "      <td>-68.624087</td>\n",
       "      <td>SSP 4.5</td>\n",
       "    </tr>\n",
       "    <tr>\n",
       "      <th>14</th>\n",
       "      <td>Florida</td>\n",
       "      <td>-69.290125</td>\n",
       "      <td>SSP 7.0</td>\n",
       "    </tr>\n",
       "    <tr>\n",
       "      <th>15</th>\n",
       "      <td>Cuba</td>\n",
       "      <td>-63.492109</td>\n",
       "      <td>SSP 2.6</td>\n",
       "    </tr>\n",
       "    <tr>\n",
       "      <th>16</th>\n",
       "      <td>Cuba</td>\n",
       "      <td>-64.397906</td>\n",
       "      <td>SSP 4.5</td>\n",
       "    </tr>\n",
       "    <tr>\n",
       "      <th>17</th>\n",
       "      <td>Cuba</td>\n",
       "      <td>-65.194797</td>\n",
       "      <td>SSP 7.0</td>\n",
       "    </tr>\n",
       "    <tr>\n",
       "      <th>18</th>\n",
       "      <td>Venezuela</td>\n",
       "      <td>-62.479799</td>\n",
       "      <td>SSP 2.6</td>\n",
       "    </tr>\n",
       "    <tr>\n",
       "      <th>19</th>\n",
       "      <td>Venezuela</td>\n",
       "      <td>-63.677109</td>\n",
       "      <td>SSP 4.5</td>\n",
       "    </tr>\n",
       "    <tr>\n",
       "      <th>20</th>\n",
       "      <td>Venezuela</td>\n",
       "      <td>-64.551332</td>\n",
       "      <td>SSP 7.0</td>\n",
       "    </tr>\n",
       "  </tbody>\n",
       "</table>\n",
       "</div>"
      ],
      "text/plain": [
       "         Region  Percent Change SSP Scenario\n",
       "0   Puerto Rico      -51.546615      SSP 2.6\n",
       "1   Puerto Rico      -52.519568      SSP 4.5\n",
       "2   Puerto Rico      -53.587666      SSP 7.0\n",
       "3        Belize      -87.162752      SSP 2.6\n",
       "4        Belize      -87.534271      SSP 4.5\n",
       "5        Belize      -87.795111      SSP 7.0\n",
       "6       Bahamas      -68.067605      SSP 2.6\n",
       "7       Bahamas      -68.814419      SSP 4.5\n",
       "8       Bahamas      -69.470903      SSP 7.0\n",
       "9        Mexico      -67.957907      SSP 2.6\n",
       "10       Mexico      -68.750289      SSP 4.5\n",
       "11       Mexico      -67.771176      SSP 7.0\n",
       "12      Florida      -67.986359      SSP 2.6\n",
       "13      Florida      -68.624087      SSP 4.5\n",
       "14      Florida      -69.290125      SSP 7.0\n",
       "15         Cuba      -63.492109      SSP 2.6\n",
       "16         Cuba      -64.397906      SSP 4.5\n",
       "17         Cuba      -65.194797      SSP 7.0\n",
       "18    Venezuela      -62.479799      SSP 2.6\n",
       "19    Venezuela      -63.677109      SSP 4.5\n",
       "20    Venezuela      -64.551332      SSP 7.0"
      ]
     },
     "execution_count": 61,
     "metadata": {},
     "output_type": "execute_result"
    }
   ],
   "source": [
    "df = pd.DataFrame(Dataset, columns=['Region', 'Percent Change','SSP Scenario'])\n",
    "df"
   ]
  },
  {
   "cell_type": "code",
   "execution_count": 66,
   "id": "8434c2ad",
   "metadata": {},
   "outputs": [
    {
     "data": {
      "text/plain": [
       "<matplotlib.legend.Legend at 0x7ff7047359a0>"
      ]
     },
     "execution_count": 66,
     "metadata": {},
     "output_type": "execute_result"
    },
    {
     "data": {
      "image/png": "[encoded data removed]",
      "text/plain": [
       "<Figure size 432x288 with 1 Axes>"
      ]
     },
     "metadata": {
      "needs_background": "light"
     },
     "output_type": "display_data"
    }
   ],
   "source": [
    "sns.scatterplot(data=df,x='Region',y='Percent Change',hue='SSP Scenario',palette='Blues')\n",
    "plt.xlabel('')\n",
    "plt.ylim(-90,-50)\n",
    "plt.axhline(y=0, color='r', linestyle='-')\n",
    "plt.xticks(rotation=45)\n",
    "plt.ylabel('Percent Coverage Change')\n",
    "plt.legend(loc=(1.04, 0))"
   ]
  },
  {
   "cell_type": "code",
   "execution_count": null,
   "id": "b1d85456",
   "metadata": {},
   "outputs": [],
   "source": []
  }
 ],
 "metadata": {
  "kernelspec": {
   "display_name": "Python 3 (ipykernel)",
   "language": "python",
   "name": "python3"
  },
  "language_info": {
   "codemirror_mode": {
    "name": "ipython",
    "version": 3
   },
   "file_extension": ".py",
   "mimetype": "text/x-python",
   "name": "python",
   "nbconvert_exporter": "python",
   "pygments_lexer": "ipython3",
   "version": "3.8.16"
  }
 },
 "nbformat": 4,
 "nbformat_minor": 5
}
