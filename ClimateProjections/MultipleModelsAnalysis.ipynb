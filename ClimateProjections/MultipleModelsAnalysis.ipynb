{
 "cells": [
  {
   "cell_type": "code",
   "execution_count": 53,
   "id": "ad6c9cfd",
   "metadata": {},
   "outputs": [],
   "source": [
    "import numpy as np\n",
    "import pandas as pd\n",
    "import matplotlib.pyplot as plt\n",
    "import seaborn as sns"
   ]
  },
  {
   "cell_type": "code",
   "execution_count": 54,
   "id": "3468474f",
   "metadata": {},
   "outputs": [],
   "source": [
    "#####data sets to combine\n",
    "FGOALS_Evap = '/Users/isamarcortes/Dropbox/Isamar/Papers_In_Prep/Paper_1/SupplementaryMaterial/ClimateProjectionsData/FGOALS3/EvaporationRates.xlsx'\n",
    "GFDL_Evap = '/Users/isamarcortes/Dropbox/Isamar/Papers_In_Prep/Paper_1/SupplementaryMaterial/ClimateProjectionsData/GFDL_ESM4/GFDL_Evaporation.xlsx'\n",
    "EC_EarthEvap = '/Users/isamarcortes/Dropbox/Isamar/Papers_In_Prep/Paper_1/SupplementaryMaterial/ClimateProjectionsData/EC-Earth3/EC-EarthEvap.xlsx'\n"
   ]
  },
  {
   "cell_type": "code",
   "execution_count": 73,
   "id": "0aa8bd0c",
   "metadata": {},
   "outputs": [],
   "source": [
    "##### Here's the functions for the past data\n",
    "def PastDataRead(data):\n",
    "    '''\n",
    "    This function serves to read in all of \n",
    "    the regions of interest as dataframes\n",
    "    '''\n",
    "    PR = pd.read_excel(data,sheet_name='PuertoRico',skiprows=[i for i in range(97,1034)])\n",
    "    VZ = pd.read_excel(data,sheet_name='Venezuela',skiprows=[i for i in range(97,1034)])\n",
    "    BH = pd.read_excel(data,sheet_name='Bahamas',skiprows=[i for i in range(97,1034)])\n",
    "    BZ = pd.read_excel(data,sheet_name='Belize',skiprows=[i for i in range(97,1034)])\n",
    "    CB = pd.read_excel(data,sheet_name='Cuba',skiprows=[i for i in range(97,1034)])\n",
    "    MX = pd.read_excel(data,sheet_name='Mexico',skiprows=[i for i in range(97,1034)])\n",
    "    FL = pd.read_excel(data,sheet_name='Florida',skiprows=[i for i in range(97,1034)])\n",
    "\n",
    "    \n",
    "    return PR, VZ, BH, BZ, CB, MX, FL\n",
    "\n",
    "\n",
    "\n",
    "########## function for future data\n",
    "def dataRead(data):\n",
    "    '''\n",
    "    This function serves to read in all of \n",
    "    the regions of interest as dataframes\n",
    "    '''\n",
    "    PR = pd.read_excel(data,sheet_name='PuertoRico',skiprows=[i for i in range(1,97)])\n",
    "    VZ = pd.read_excel(data,sheet_name='Venezuela',skiprows=[i for i in range(1,97)])\n",
    "    BH = pd.read_excel(data,sheet_name='Bahamas',skiprows=[i for i in range(1,97)])\n",
    "    BZ = pd.read_excel(data,sheet_name='Belize',skiprows=[i for i in range(1,97)])\n",
    "    CB = pd.read_excel(data,sheet_name='Cuba',skiprows=[i for i in range(1,97)])\n",
    "    MX = pd.read_excel(data,sheet_name='Mexico',skiprows=[i for i in range(1,97)])\n",
    "    FL = pd.read_excel(data,sheet_name='Florida',skiprows=[i for i in range(1,97)])\n",
    "\n",
    "    \n",
    "    return PR, VZ, BH, BZ, CB, MX, FL\n",
    "    "
   ]
  },
  {
   "cell_type": "code",
   "execution_count": 56,
   "id": "5b29cb99",
   "metadata": {},
   "outputs": [],
   "source": [
    "###Reading future data\n",
    "PR_FGoals, VZ_FGoals, BH_FGoals, BZ_FGoals, CB_FGoals, MX_FGoals, FL_FGoals=dataRead(FGOALS_Evap) ##FGOALS\n",
    "PR_GFDL, VZ_GFDL, BH_GFDL, BZ_GFDL, CB_GFDL, MX_GFDL, FL_GFDL=dataRead(GFDL_Evap) ##GFDL\n",
    "PR_EC, VZ_EC, BH_EC, BZ_EC, CB_EC, MX_EC, FL_EC=dataRead(EC_EarthEvap) ##EC_EarthEvap"
   ]
  },
  {
   "cell_type": "code",
   "execution_count": 48,
   "id": "a87b9617",
   "metadata": {},
   "outputs": [
    {
     "name": "stdout",
     "output_type": "stream",
     "text": [
      "        Year  A (Latitude)  T26 (mean temp)  T45 (mean temp)  T70 (mean temp)  \\\n",
      "0 2023-01-01         17.95            25.62            24.82            25.04   \n",
      "1 2023-02-01         17.95            24.82            25.11            24.51   \n",
      "2 2023-03-01         17.95            24.98            25.03            24.56   \n",
      "3 2023-04-01         17.95            25.11            25.09            25.25   \n",
      "4 2023-05-01         17.95            25.87            25.37            26.09   \n",
      "\n",
      "   Rann26  Rann45  Rann70    R26   R45    R70  T-Td (26)  T-Td (45)  \\\n",
      "0   13.61   12.51   11.78  10.22  8.70  10.09     8.7595     7.2729   \n",
      "1   13.61   12.51   11.78  10.94  9.62   9.80     8.8451     7.8678   \n",
      "2   13.61   12.51   11.78  10.69  9.49   9.67     8.7718     7.7693   \n",
      "3   13.61   12.51   11.78  10.28  9.96   9.52     8.6026     8.0406   \n",
      "4   13.61   12.51   11.78  10.91  9.82   9.64     9.2177     8.0700   \n",
      "\n",
      "   T-Td (70)       E26  E26_Year       E45  E45_Year       E70  E70_Year  \n",
      "0     7.8355  0.193067       NaN  0.174434       NaN  0.180763       NaN  \n",
      "1     7.4857  0.187256       NaN  0.181585       NaN  0.173755       NaN  \n",
      "2     7.4353  0.187945       NaN  0.180142       NaN  0.173734       NaN  \n",
      "3     7.6111  0.187609       NaN  0.182842       NaN  0.180594       NaN  \n",
      "4     7.9855  0.198950       NaN  0.185333       NaN  0.190521       NaN  \n"
     ]
    }
   ],
   "source": [
    "print(PR_FGoals.head())"
   ]
  },
  {
   "cell_type": "code",
   "execution_count": 57,
   "id": "4e7950bc",
   "metadata": {},
   "outputs": [],
   "source": [
    "#### Reading past data\n",
    "\n",
    "PR_FGoals_Past, VZ_FGoals_Past, BH_FGoals_Past, BZ_FGoals_Past, CB_FGoals_Past, MX_FGoals_Past, FL_FGoals_Past=PastDataRead(FGOALS_Evap) ##FGOALS\n",
    "PR_GFDL_Past, VZ_GFDL_Past, BH_GFDL_Past, BZ_GFDL_Past, CB_GFDL_Past, MX_GFDL_Past, FL_GFDL_Past=PastDataRead(GFDL_Evap) ##GFDL\n",
    "PR_EC_Past, VZ_EC_Past, BH_EC_Past, BZ_EC_Past, CB_EC_Past, MX_EC_Past, FL_EC_Past=PastDataRead(EC_EarthEvap) ##EC_EarthEvap"
   ]
  },
  {
   "cell_type": "code",
   "execution_count": 49,
   "id": "49835bee",
   "metadata": {},
   "outputs": [
    {
     "name": "stdout",
     "output_type": "stream",
     "text": [
      "         Year  A (Latitude)  T26 (mean temp)  T45 (mean temp)  \\\n",
      "91 2022-08-01         17.95            27.76            27.31   \n",
      "92 2022-09-01         17.95            27.72            27.27   \n",
      "93 2022-10-01         17.95            27.30            27.39   \n",
      "94 2022-11-01         17.95            26.58            26.87   \n",
      "95 2022-12-01         17.95            25.72            25.74   \n",
      "\n",
      "    T70 (mean temp)  Rann26  Rann45  Rann70    R26    R45   R70  T-Td (26)  \\\n",
      "91            26.87   14.09    14.1   15.41   9.03   9.04  9.48     9.0886   \n",
      "92            26.72   14.09    14.1   15.41   9.18   9.03  8.98     9.1533   \n",
      "93            26.60   14.09    14.1   15.41  10.18  11.16  9.42     9.5279   \n",
      "94            25.78   14.09    14.1   15.41   9.84  10.01  9.95     9.0813   \n",
      "95            25.19   14.09    14.1   15.41   9.29   9.28  8.88     8.4716   \n",
      "\n",
      "    T-Td (45)  T-Td (70)       E26  E26_Year       E45  E45_Year       E70  \\\n",
      "91     8.9309     9.4598  0.214296       NaN  0.208933       NaN  0.209563   \n",
      "92     8.9108     9.1393  0.214493       NaN  0.208409       NaN  0.205545   \n",
      "93    10.0841     9.3281  0.213942       NaN  0.219504       NaN  0.206099   \n",
      "94     9.2822     9.3056  0.203847       NaN  0.208058       NaN  0.198925   \n",
      "95     8.4772     8.5202  0.191508  2.405431  0.191719  2.392691  0.187580   \n",
      "\n",
      "    E70_Year  \n",
      "91       NaN  \n",
      "92       NaN  \n",
      "93       NaN  \n",
      "94       NaN  \n",
      "95  2.356174  \n"
     ]
    }
   ],
   "source": [
    "print(PR_FGoals_Past.tail())"
   ]
  },
  {
   "cell_type": "code",
   "execution_count": 58,
   "id": "9a095a04",
   "metadata": {},
   "outputs": [],
   "source": [
    "\n",
    "##### Get evaporation data\n",
    "\n",
    "\n",
    "def getEvap(FGoals,GFDL,EC):\n",
    "    '''\n",
    "    This function works to take all \n",
    "    of the evaporation data for SSP 2.6,\n",
    "    SSP 4.5 and SSP 7.0 and average the \n",
    "    3 models\n",
    "    '''\n",
    "    E26_F= np.array(FGoals['E26'])\n",
    "    E26_G = np.array(GFDL['E26'])\n",
    "    E26_EC = np.array(EC['E26'])\n",
    "    Evap26 = np.mean(np.array([E26_F,E26_G,E26_EC]))\n",
    "    \n",
    "    E45_F= np.array(FGoals['E45'])\n",
    "    E45_G = np.array(GFDL['E45'])\n",
    "    E45_EC = np.array(EC['E45'])\n",
    "    Evap45 = np.mean(np.array([E45_F,E45_G,E45_EC]))\n",
    "    \n",
    "    E70_F= np.array(FGoals['E70'])\n",
    "    E70_G = np.array(GFDL['E70'])\n",
    "    E70_EC = np.array(EC['E70'])\n",
    "    Evap70 = np.mean(np.array([E70_F,E70_G,E70_EC])) \n",
    "    \n",
    "    return Evap26, Evap45, Evap70\n",
    "    "
   ]
  },
  {
   "cell_type": "code",
   "execution_count": 59,
   "id": "44305919",
   "metadata": {},
   "outputs": [],
   "source": [
    "###future Evap\n",
    "\n",
    "PR26E,PR45E,PR70E = getEvap(PR_FGoals,PR_GFDL,PR_EC)\n",
    "VZ26E,VZ45E,VZ70E = getEvap(VZ_FGoals,VZ_GFDL,VZ_EC)\n",
    "BH26E,BH45E,BH70E = getEvap(BH_FGoals,BH_GFDL,BH_EC)\n",
    "BZ26E,BZ45E,BZ70E = getEvap(BZ_FGoals,BZ_GFDL,BZ_EC)\n",
    "MX26E,MX45E,MX70E = getEvap(MX_FGoals,MX_GFDL,MX_EC)\n",
    "FL26E,FL45E,FL70E = getEvap(FL_FGoals,FL_GFDL,FL_EC)\n",
    "CB26E,CB45E,CB70E = getEvap(CB_FGoals,CB_GFDL,CB_EC)\n",
    "\n",
    "###Past Evap\n",
    "\n",
    "PR26_PastE,PR45_PastE,PR70_PastE = getEvap(PR_FGoals_Past,PR_GFDL_Past,PR_EC_Past)\n",
    "VZ26_PastE,VZ45_PastE,VZ70_PastE = getEvap(VZ_FGoals_Past,VZ_GFDL_Past,VZ_EC_Past)\n",
    "BH26_PastE,BH45_PastE,BH70_PastE = getEvap(BH_FGoals_Past,BH_GFDL_Past,BH_EC_Past)\n",
    "BZ26_PastE,BZ45_PastE,BZ70_PastE = getEvap(BZ_FGoals_Past,BZ_GFDL_Past,BZ_EC_Past)\n",
    "MX26_PastE,MX45_PastE,MX70_PastE = getEvap(MX_FGoals_Past,MX_GFDL_Past,MX_EC_Past)\n",
    "FL26_PastE,FL45_PastE,FL70_PastE = getEvap(FL_FGoals_Past,FL_GFDL_Past,FL_EC_Past)\n",
    "CB26_PastE,CB45_PastE,CB70_PastE = getEvap(CB_FGoals_Past,CB_GFDL_Past,CB_EC_Past)\n",
    "\n",
    "\n",
    "\n"
   ]
  },
  {
   "cell_type": "code",
   "execution_count": 67,
   "id": "7837025e",
   "metadata": {},
   "outputs": [
    {
     "name": "stdout",
     "output_type": "stream",
     "text": [
      "0.20182237743858913 0.20654806588952535 0.21074933583768596\n",
      "0.1616347066641123 0.16701691556423676 0.1712295143816245\n",
      "0.2346129621887193 0.24094934045795968 0.24513983119022512\n",
      "0.21822153084909254 0.22455069917408282 0.23024594371084467\n",
      "0.24697108698966752 0.2538972977268327 0.24657503664667849\n",
      "0.2617841679805571 0.26793236987971897 0.27351056572646704\n",
      "0.23956411875244327 0.24668730548700968 0.2525071656103236\n",
      "0.1704827298635544\n",
      "0.1788072271394313\n",
      "0.18496133939949738\n"
     ]
    }
   ],
   "source": [
    "print(PR26E,PR45E,PR70E)\n",
    "print(VZ26E,VZ45E,VZ70E)\n",
    "print(BH26E,BH45E,BH70E)\n",
    "print(BZ26E,BZ45E,BZ70E)\n",
    "print(MX26E,MX45E,MX70E)\n",
    "print(FL26E,FL45E,FL70E)\n",
    "print(CB26E,CB45E,CB70E)\n",
    "\n",
    "CB_net26 = CB26E - CB26_P\n",
    "CB_net45 = CB45E - CB45_P\n",
    "CB_net70 = CB70E - CB70_P\n",
    "\n",
    "\n",
    "print(CB_net26)\n",
    "print(CB_net45)\n",
    "print(CB_net70)"
   ]
  },
  {
   "cell_type": "code",
   "execution_count": 65,
   "id": "e61489f8",
   "metadata": {},
   "outputs": [
    {
     "name": "stdout",
     "output_type": "stream",
     "text": [
      "0.05173912749287749 0.04993503561253562 0.04662745726495726\n",
      "0.036110195868945864 0.032440099715099716 0.03223059472934473\n",
      "0.09411316595441596 0.09306663817663818 0.08521931623931624\n",
      "0.08083735754985755 0.07904547364672365 0.08301779914529915\n",
      "0.07424654558404559 0.0738863425925926 0.07628236467236468\n",
      "0.08130831908831909 0.07966172008547008 0.07641349002849002\n",
      "0.06908138888888889 0.06788007834757835 0.06754582621082621\n"
     ]
    }
   ],
   "source": [
    "print(PR26_P,PR45_P,PR70_P)\n",
    "print(VZ26_P,VZ45_P,VZ70_P)\n",
    "print(BH26_P,BH45_P,BH70_P)\n",
    "print(BZ26_P,BZ45_P,BZ70_P)\n",
    "print(MX26_P,MX45_P,MX70_P)\n",
    "print(FL26_P,FL45_P,FL70_P)\n",
    "print(CB26_P,CB45_P,CB70_P)\n"
   ]
  },
  {
   "cell_type": "markdown",
   "id": "18521fe7",
   "metadata": {},
   "source": [
    "## PRECIP"
   ]
  },
  {
   "cell_type": "code",
   "execution_count": 61,
   "id": "ee5fa56d",
   "metadata": {},
   "outputs": [],
   "source": [
    "##### future data\n",
    "\n",
    "PrecipData = '/Users/isamarcortes/Dropbox/Isamar/Papers_In_Prep/Paper_1/SupplementaryMaterial/ClimateProjectionsData/PrecipitationDataAllThree.xlsx'\n",
    "def readPrecip(data):\n",
    "    GFDL26 = pd.read_excel(data,sheet_name='GFDL_26',skiprows=[i for i in range(1,97)])\n",
    "    GFDL45 = pd.read_excel(data,sheet_name='GFDL_45',skiprows=[i for i in range(1,97)])\n",
    "    GFDL70 = pd.read_excel(data,sheet_name='GFDL_70',skiprows=[i for i in range(1,97)])\n",
    "    \n",
    "    FGOALS26 = pd.read_excel(data,sheet_name='FGOALS_26',skiprows=[i for i in range(1,97)])\n",
    "    FGOALS45 = pd.read_excel(data,sheet_name='FGOALS_45',skiprows=[i for i in range(1,97)])\n",
    "    FGOALS70 = pd.read_excel(data,sheet_name='FGOALS_70',skiprows=[i for i in range(1,97)])\n",
    "    \n",
    "    ECEarth_26 = pd.read_excel(data,sheet_name='ECEarth_26',skiprows=[i for i in range(1,97)])\n",
    "    ECEarth_45 = pd.read_excel(data,sheet_name='ECEarth_45',skiprows=[i for i in range(1,97)]) \n",
    "    ECEarth_70 = pd.read_excel(data,sheet_name='ECEarth_70',skiprows=[i for i in range(1,97)])\n",
    "    \n",
    "    return GFDL26, GFDL45, GFDL70, FGOALS26, FGOALS45, FGOALS70, ECEarth_26, ECEarth_45, ECEarth_70\n",
    "    \n",
    "    \n",
    "    "
   ]
  },
  {
   "cell_type": "code",
   "execution_count": 62,
   "id": "44f2d9fa",
   "metadata": {},
   "outputs": [],
   "source": [
    "GFDL26, GFDL45, GFDL70, FGOALS26, FGOALS45, FGOALS70, ECEarth_26, ECEarth_45, ECEarth_70 = readPrecip(PrecipData)\n",
    "\n",
    "\n"
   ]
  },
  {
   "cell_type": "code",
   "execution_count": 151,
   "id": "4c4c9672",
   "metadata": {},
   "outputs": [
    {
     "name": "stdout",
     "output_type": "stream",
     "text": [
      "        Year  Puerto Rico  Florida  Bahamas  Belize  Mexico  Venezuela   Cuba\n",
      "0 2023-01-01        42.75    66.66   124.03  134.41   62.19      17.84  38.67\n",
      "1 2023-02-01        17.83    49.74    71.83  132.50   50.61       9.35  29.38\n",
      "2 2023-03-01        13.96     3.65    12.75   55.87    8.22       9.81   2.07\n",
      "3 2023-04-01         9.43    20.06    30.92   35.80   10.70       4.38  20.40\n",
      "4 2023-05-01        11.54    14.11     7.36   30.79    6.59      20.79  10.64\n"
     ]
    }
   ],
   "source": []
  },
  {
   "cell_type": "code",
   "execution_count": 63,
   "id": "af4733a3",
   "metadata": {},
   "outputs": [],
   "source": [
    "###calculate future values\n",
    "PR26_P = np.mean(np.array([GFDL26['Puerto Rico'],FGOALS26['Puerto Rico'],ECEarth_26['Puerto Rico']]))/1000\n",
    "PR45_P = np.mean(np.array([GFDL45['Puerto Rico'],FGOALS45['Puerto Rico'],ECEarth_45['Puerto Rico']]))/1000\n",
    "PR70_P = np.mean(np.array([GFDL70['Puerto Rico'],FGOALS70['Puerto Rico'],ECEarth_70['Puerto Rico']]))/1000\n",
    "\n",
    "VZ26_P = np.mean(np.array([GFDL26['Venezuela'],FGOALS26['Venezuela'],ECEarth_26['Venezuela']]))/1000\n",
    "VZ45_P = np.mean(np.array([GFDL45['Venezuela'],FGOALS45['Venezuela'],ECEarth_45['Venezuela']]))/1000\n",
    "VZ70_P = np.mean(np.array([GFDL70['Venezuela'],FGOALS70['Venezuela'],ECEarth_70['Venezuela']]))/1000\n",
    "\n",
    "MX26_P = np.mean(np.array([GFDL26['Mexico'],FGOALS26['Mexico'],ECEarth_26['Mexico']]))/1000\n",
    "MX45_P = np.mean(np.array([GFDL45['Mexico'],FGOALS45['Mexico'],ECEarth_45['Mexico']]))/1000\n",
    "MX70_P = np.mean(np.array([GFDL70['Mexico'],FGOALS70['Mexico'],ECEarth_70['Mexico']]))/1000\n",
    "\n",
    "BZ26_P = np.mean(np.array([GFDL26['Belize'],FGOALS26['Belize'],ECEarth_26['Belize']]))/1000\n",
    "BZ45_P = np.mean(np.array([GFDL45['Belize'],FGOALS45['Belize'],ECEarth_45['Belize']]))/1000\n",
    "BZ70_P = np.mean(np.array([GFDL70['Belize'],FGOALS70['Belize'],ECEarth_70['Belize']]))/1000\n",
    "\n",
    "BH26_P = np.mean(np.array([GFDL26['Bahamas'],FGOALS26['Bahamas'],ECEarth_26['Bahamas']]))/1000\n",
    "BH45_P = np.mean(np.array([GFDL45['Bahamas'],FGOALS45['Bahamas'],ECEarth_45['Bahamas']]))/1000\n",
    "BH70_P = np.mean(np.array([GFDL70['Bahamas'],FGOALS70['Bahamas'],ECEarth_70['Bahamas']]))/1000\n",
    "\n",
    "FL26_P = np.mean(np.array([GFDL26['Florida'],FGOALS26['Florida'],ECEarth_26['Florida']]))/1000\n",
    "FL45_P = np.mean(np.array([GFDL45['Florida'],FGOALS45['Florida'],ECEarth_45['Florida']]))/1000\n",
    "FL70_P = np.mean(np.array([GFDL70['Florida'],FGOALS70['Florida'],ECEarth_70['Florida']]))/1000\n",
    "\n",
    "CB26_P = np.mean(np.array([GFDL26['Cuba'],FGOALS26['Cuba'],ECEarth_26['Cuba']]))/1000\n",
    "CB45_P = np.mean(np.array([GFDL45['Cuba'],FGOALS45['Cuba'],ECEarth_45['Cuba']]))/1000\n",
    "CB70_P = np.mean(np.array([GFDL70['Cuba'],FGOALS70['Cuba'],ECEarth_70['Cuba']]))/1000\n"
   ]
  },
  {
   "cell_type": "code",
   "execution_count": 34,
   "id": "e4609aa6",
   "metadata": {},
   "outputs": [],
   "source": [
    "### Future Enet\n",
    "EnetPR26_Future = PR26E-PR26_P\n",
    "EnetPR45_Future = PR45E-PR45_P\n",
    "EnetPR70_Future = PR70E-PR70_P\n",
    "\n",
    "EnetVZ26_Future = VZ26E-VZ26_P\n",
    "EnetVZ45_Future = VZ45E-VZ45_P\n",
    "EnetVZ70_Future = VZ70E-VZ70_P\n",
    "\n",
    "EnetBZ26_Future = BZ26E-BZ26_P\n",
    "EnetBZ45_Future = BZ45E-BZ45_P\n",
    "EnetBZ70_Future = BZ70E-BZ70_P\n",
    "\n",
    "EnetBH26_Future = BH26E-BH26_P\n",
    "EnetBH45_Future = BH45E-BH45_P\n",
    "EnetBH70_Future = BH70E-BH70_P\n",
    "\n",
    "EnetCB26_Future = CB26E-CB26_P\n",
    "EnetCB45_Future = CB45E-CB45_P\n",
    "EnetCB70_Future = CB70E-CB70_P\n",
    "\n",
    "EnetFL26_Future = FL26E-FL26_P\n",
    "EnetFL45_Future = FL45E-FL45_P\n",
    "EnetFL70_Future = FL70E-FL70_P\n",
    "\n",
    "EnetMX26_Future = MX26E-MX26_P\n",
    "EnetMX45_Future = MX45E-MX45_P\n",
    "EnetMX70_Future = MX70E-MX70_P\n",
    "\n",
    "\n"
   ]
  },
  {
   "cell_type": "code",
   "execution_count": 18,
   "id": "c567e502",
   "metadata": {},
   "outputs": [
    {
     "data": {
      "text/plain": [
       "0.14991714014015245"
      ]
     },
     "execution_count": 18,
     "metadata": {},
     "output_type": "execute_result"
    }
   ],
   "source": [
    "EnetPR26_Future"
   ]
  },
  {
   "cell_type": "code",
   "execution_count": 68,
   "id": "f6409918",
   "metadata": {},
   "outputs": [],
   "source": [
    "## Past Data\n",
    "def readPastPrecip(data):\n",
    "    GFDL26 = pd.read_excel(data,sheet_name='GFDL_26',skiprows=[i for i in range(97,1034)])\n",
    "    GFDL45 = pd.read_excel(data,sheet_name='GFDL_45',skiprows=[i for i in range(97,1034)])\n",
    "    GFDL70 = pd.read_excel(data,sheet_name='GFDL_70',skiprows=[i for i in range(97,1034)])\n",
    "    \n",
    "    FGOALS26 = pd.read_excel(data,sheet_name='FGOALS_26',skiprows=[i for i in range(97,1034)])\n",
    "    FGOALS45 = pd.read_excel(data,sheet_name='FGOALS_45',skiprows=[i for i in range(97,1034)])\n",
    "    FGOALS70 = pd.read_excel(data,sheet_name='FGOALS_70',skiprows=[i for i in range(97,1034)])\n",
    "    \n",
    "    ECEarth_26 = pd.read_excel(data,sheet_name='ECEarth_26',skiprows=[i for i in range(97,1034)])\n",
    "    ECEarth_45 = pd.read_excel(data,sheet_name='ECEarth_45',skiprows=[i for i in range(97,1034)]) \n",
    "    ECEarth_70 = pd.read_excel(data,sheet_name='ECEarth_70',skiprows=[i for i in range(97,1034)])\n",
    "    \n",
    "    return GFDL26, GFDL45, GFDL70, FGOALS26, FGOALS45, FGOALS70, ECEarth_26, ECEarth_45, ECEarth_70\n",
    "    \n",
    "    \n",
    "\n",
    "#### Reading past data for precipitation\n",
    "GFDL26_PastP, GFDL45_PastP, GFDL70_PastP, FGOALS26_PastP, FGOALS45_PastP, FGOALS70_PastP, ECEarth_26_PastP, ECEarth_45_PastP, ECEarth_70_PastP = readPastPrecip(PrecipData)\n"
   ]
  },
  {
   "cell_type": "code",
   "execution_count": 69,
   "id": "a8b126f5",
   "metadata": {},
   "outputs": [],
   "source": [
    "###calculate past precipitation values\n",
    "PR26_PastP = np.mean(np.array([GFDL26_PastP['Puerto Rico'],FGOALS26_PastP['Puerto Rico'],ECEarth_26_PastP['Puerto Rico']]))/1000\n",
    "PR45_PastP = np.mean(np.array([GFDL45_PastP['Puerto Rico'],FGOALS45_PastP['Puerto Rico'],ECEarth_45_PastP['Puerto Rico']]))/1000\n",
    "PR70_PastP = np.mean(np.array([GFDL70_PastP['Puerto Rico'],FGOALS70_PastP['Puerto Rico'],ECEarth_70_PastP['Puerto Rico']]))/1000\n",
    "\n",
    "VZ26_PastP = np.mean(np.array([GFDL26_PastP['Venezuela'],FGOALS26_PastP['Venezuela'],ECEarth_26_PastP['Venezuela']]))/1000\n",
    "VZ45_PastP = np.mean(np.array([GFDL45_PastP['Venezuela'],FGOALS45_PastP['Venezuela'],ECEarth_45_PastP['Venezuela']]))/1000\n",
    "VZ70_PastP = np.mean(np.array([GFDL70_PastP['Venezuela'],FGOALS70_PastP['Venezuela'],ECEarth_70_PastP['Venezuela']]))/1000\n",
    "\n",
    "MX26_PastP = np.mean(np.array([GFDL26_PastP['Mexico'],FGOALS26_PastP['Mexico'],ECEarth_26_PastP['Mexico']]))/1000\n",
    "MX45_PastP = np.mean(np.array([GFDL45_PastP['Mexico'],FGOALS45_PastP['Mexico'],ECEarth_45_PastP['Mexico']]))/1000\n",
    "MX70_PastP = np.mean(np.array([GFDL70_PastP['Mexico'],FGOALS70_PastP['Mexico'],ECEarth_70_PastP['Mexico']]))/1000\n",
    "\n",
    "BZ26_PastP = np.mean(np.array([GFDL26_PastP['Belize'],FGOALS26_PastP['Belize'],ECEarth_26_PastP['Belize']]))/1000\n",
    "BZ45_PastP = np.mean(np.array([GFDL45_PastP['Belize'],FGOALS45_PastP['Belize'],ECEarth_45_PastP['Belize']]))/1000\n",
    "BZ70_PastP = np.mean(np.array([GFDL70_PastP['Belize'],FGOALS70_PastP['Belize'],ECEarth_70_PastP['Belize']]))/1000\n",
    "\n",
    "BH26_PastP = np.mean(np.array([GFDL26_PastP['Bahamas'],FGOALS26_PastP['Bahamas'],ECEarth_26_PastP['Bahamas']]))/1000\n",
    "BH45_PastP = np.mean(np.array([GFDL45_PastP['Bahamas'],FGOALS45_PastP['Bahamas'],ECEarth_45_PastP['Bahamas']]))/1000\n",
    "BH70_PastP = np.mean(np.array([GFDL70_PastP['Bahamas'],FGOALS70_PastP['Bahamas'],ECEarth_70_PastP['Bahamas']]))/1000\n",
    "\n",
    "FL26_PastP = np.mean(np.array([GFDL26_PastP['Florida'],FGOALS26_PastP['Florida'],ECEarth_26_PastP['Florida']]))/1000\n",
    "FL45_PastP = np.mean(np.array([GFDL45_PastP['Florida'],FGOALS45_PastP['Florida'],ECEarth_45_PastP['Florida']]))/1000\n",
    "FL70_PastP = np.mean(np.array([GFDL70_PastP['Florida'],FGOALS70_PastP['Florida'],ECEarth_70_PastP['Florida']]))/1000\n",
    "\n",
    "CB26_PastP = np.mean(np.array([GFDL26_PastP['Cuba'],FGOALS26_PastP['Cuba'],ECEarth_26_PastP['Cuba']]))/1000\n",
    "CB45_PastP = np.mean(np.array([GFDL45_PastP['Cuba'],FGOALS45_PastP['Cuba'],ECEarth_45_PastP['Cuba']]))/1000\n",
    "CB70_PastP = np.mean(np.array([GFDL70_PastP['Cuba'],FGOALS70_PastP['Cuba'],ECEarth_70_PastP['Cuba']]))/1000"
   ]
  },
  {
   "cell_type": "code",
   "execution_count": 72,
   "id": "031653b0",
   "metadata": {},
   "outputs": [
    {
     "name": "stdout",
     "output_type": "stream",
     "text": [
      "0.19839793037443398 0.19802274715990487 0.19708479656762515\n",
      "0.1579014733384429 0.15847439640806554 0.15789069847464635\n",
      "0.24023139794061826 0.2426106603172624 0.23162234694595954\n",
      "0.2124608390357955 0.2170058902838984 0.21301204238475072\n",
      "0.22846776177974448 0.23108651778832126 0.23265188794899933\n",
      "0.25860526859433336 0.25730115453966507 0.2604199326085419\n",
      "0.23507096262570354 0.23458142884782443 0.23691338300347198\n",
      "0.17077551123681464\n",
      "0.1654652830144911\n",
      "0.16461112605902756\n"
     ]
    }
   ],
   "source": [
    "print(PR26_PastE,PR45_PastE,PR70_PastE)\n",
    "print(VZ26_PastE,VZ45_PastE,VZ70_PastE)\n",
    "print(MX26_PastE,MX45_PastE,MX70_PastE)\n",
    "print(BZ26_PastE,BZ45_PastE,BZ70_PastE)\n",
    "print(BH26_PastE,BH45_PastE,BH70_PastE)\n",
    "print(FL26_PastE,FL45_PastE,FL70_PastE)\n",
    "print(CB26_PastE,CB45_PastE,CB70_PastE)\n",
    "\n",
    "CB_net26Past = CB26_PastE-CB26_PastP\n",
    "CB_net45Past = CB45_PastE-CB45_PastP\n",
    "CB_net70Past = CB70_PastE-CB70_PastP\n",
    "\n",
    "print(CB_net26Past)\n",
    "print(CB_net45Past)\n",
    "print(CB_net70Past)\n"
   ]
  },
  {
   "cell_type": "code",
   "execution_count": 70,
   "id": "58b72546",
   "metadata": {},
   "outputs": [
    {
     "name": "stdout",
     "output_type": "stream",
     "text": [
      "0.05251076388888889 0.05149989583333334 0.053946562499999996\n",
      "0.03771833333333333 0.0337340625 0.03979486111111111\n",
      "0.07277229166666667 0.06976736111111112 0.08447965277777778\n",
      "0.08386114583333333 0.0756878125 0.096365\n",
      "0.09176572916666666 0.09303715277777776 0.08443930555555555\n",
      "0.079875625 0.08004479166666667 0.08090097222222224\n",
      "0.0642954513888889 0.06911614583333334 0.07230225694444443\n"
     ]
    }
   ],
   "source": [
    "print(PR26_PastP,PR45_PastP,PR70_PastP)\n",
    "print(VZ26_PastP,VZ45_PastP,VZ70_PastP)\n",
    "print(MX26_PastP,MX45_PastP,MX70_PastP)\n",
    "print(BZ26_PastP,BZ45_PastP,BZ70_PastP)\n",
    "print(BH26_PastP,BH45_PastP,BH70_PastP)\n",
    "print(FL26_PastP,FL45_PastP,FL70_PastP)\n",
    "print(CB26_PastP,CB45_PastP,CB70_PastP)\n",
    "\n",
    "\n",
    "\n"
   ]
  },
  {
   "cell_type": "code",
   "execution_count": null,
   "id": "026e36e8",
   "metadata": {},
   "outputs": [],
   "source": []
  },
  {
   "cell_type": "code",
   "execution_count": 37,
   "id": "70b2fa80",
   "metadata": {},
   "outputs": [],
   "source": [
    "##### Past Enet\n",
    "EnetPR26_Past = PR26_PastE-PR26_PastP\n",
    "EnetPR45_Past = PR45_PastE-PR45_PastP\n",
    "EnetPR70_Past = PR70_PastE-PR70_PastP\n",
    "\n",
    "EnetVZ26_Past = VZ26_PastE-VZ26_PastP\n",
    "EnetVZ45_Past = VZ45_PastE-VZ45_PastP\n",
    "EnetVZ70_Past = VZ70_PastE-VZ70_PastP\n",
    "\n",
    "EnetBZ26_Past = BZ26_PastE-BZ26_PastP\n",
    "EnetBZ45_Past = BZ45_PastE-BZ45_PastP\n",
    "EnetBZ70_Past = BZ70_PastE-BZ70_PastP\n",
    "\n",
    "EnetBH26_Past = BH26_PastE-BH26_PastP\n",
    "EnetBH45_Past = BH45_PastE-BH45_PastP\n",
    "EnetBH70_Past = BH70_PastE-BH70_PastP\n",
    "\n",
    "EnetCB26_Past = CB26_PastE-CB26_PastP\n",
    "EnetCB45_Past = CB45_PastE-CB45_PastP\n",
    "EnetCB70_Past = CB70_PastE-CB70_PastP\n",
    "\n",
    "EnetFL26_Past = FL26_PastE-FL26_PastP\n",
    "EnetFL45_Past = FL45_PastE-FL45_PastP\n",
    "EnetFL70_Past = FL70_PastE-FL70_PastP\n",
    "\n",
    "EnetMX26_Past = MX26_PastE-MX26_PastP\n",
    "EnetMX45_Past = MX45_PastE-MX45_PastP\n",
    "EnetMX70_Past = MX70_PastE-MX70_PastP\n",
    "\n"
   ]
  },
  {
   "cell_type": "code",
   "execution_count": 33,
   "id": "0d6a57d1",
   "metadata": {},
   "outputs": [
    {
     "name": "stdout",
     "output_type": "stream",
     "text": [
      "0.1389760115137532 0.13750081260087402\n"
     ]
    }
   ],
   "source": [
    "print(EnetBZ45_Future,EnetBZ45_Past)"
   ]
  },
  {
   "cell_type": "code",
   "execution_count": 38,
   "id": "25e2d229",
   "metadata": {},
   "outputs": [],
   "source": [
    "## Percent change\n",
    "Percent26PR = ((EnetPR26_Future-EnetPR26_Past)/ EnetPR26_Future)*100\n",
    "Percent45PR = ((EnetPR45_Future-EnetPR45_Past)/ EnetPR45_Future)*100\n",
    "Percent70PR = ((EnetPR70_Future-EnetPR70_Past)/ EnetPR70_Future)*100\n",
    "\n",
    "Percent26BZ = ((EnetBZ26_Future-EnetBZ26_Past)/ EnetBZ26_Future)*100\n",
    "Percent45BZ = ((EnetBZ45_Future-EnetBZ45_Past)/ EnetBZ45_Future)*100\n",
    "Percent70BZ = ((EnetBZ70_Future-EnetBZ70_Past)/ EnetBZ70_Future)*100\n",
    "\n",
    "Percent26BH = ((EnetBH26_Future-EnetBH26_Past)/ EnetBH26_Future)*100\n",
    "Percent45BH = ((EnetBH45_Future-EnetBH45_Past)/ EnetBH45_Future)*100\n",
    "Percent70BH = ((EnetBH70_Future-EnetBH70_Past)/ EnetBH70_Future)*100\n",
    "\n",
    "Percent26MX = ((EnetMX26_Future-EnetMX26_Past)/ EnetMX26_Future)*100\n",
    "Percent45MX = ((EnetMX45_Future-EnetMX45_Past)/ EnetMX45_Future)*100\n",
    "Percent70MX = ((EnetMX70_Future-EnetMX70_Past)/ EnetMX70_Future)*100\n",
    "\n",
    "Percent26FL = ((EnetFL26_Future-EnetFL26_Past)/ EnetFL26_Future)*100\n",
    "Percent45FL = ((EnetFL45_Future-EnetFL45_Past)/ EnetFL45_Future)*100\n",
    "Percent70FL = ((EnetFL70_Future-EnetFL70_Past)/ EnetFL70_Future)*100\n",
    "\n",
    "Percent26CB = ((EnetCB26_Future-EnetCB26_Past)/ EnetCB26_Future)*100\n",
    "Percent45CB = ((EnetCB45_Future-EnetCB45_Past)/ EnetCB45_Future)*100\n",
    "Percent70CB = ((EnetCB70_Future-EnetCB70_Past)/ EnetCB70_Future)*100\n",
    "\n",
    "Percent26VZ = ((EnetVZ26_Future-EnetVZ26_Past)/ EnetVZ26_Future)*100\n",
    "Percent45VZ = ((EnetVZ45_Future-EnetVZ45_Past)/ EnetVZ45_Future)*100\n",
    "Percent70VZ = ((EnetVZ70_Future-EnetVZ70_Past)/ EnetVZ70_Future)*100"
   ]
  },
  {
   "cell_type": "code",
   "execution_count": 45,
   "id": "ed555907",
   "metadata": {},
   "outputs": [],
   "source": [
    "Dataset = [['Puerto Rico',Percent26PR*-1,'SSP 2.6'],['Puerto Rico',Percent45PR*-1,'SSP 4.5'],['Puerto Rico',Percent70PR*-1,'SSP 7.0'],\n",
    "           ['Belize',Percent26BZ*-1,'SSP 2.6'],['Belize',Percent45BZ*-1,'SSP 4.5'],['Belize',Percent70BZ*-1,'SSP 7.0'],\n",
    "           ['Bahamas',Percent26BH*-1,'SSP 2.6'],['Bahamas',Percent45BH*-1,'SSP 4.5'],['Bahamas',Percent70BH*-1,'SSP 7.0'],\n",
    "           ['Mexico',Percent26MX*-1,'SSP 2.6'],['Mexico',Percent45MX*-1,'SSP 4.5'],['Mexico',Percent70MX*-1,'SSP 7.0'],\n",
    "           ['Florida',Percent26FL*-1,'SSP 2.6'],['Florida',Percent45FL*-1,'SSP 4.5'],['Florida',Percent70FL*-1,'SSP 7.0'],\n",
    "           ['Cuba',Percent26CB*-1,'SSP 2.6'],['Cuba',Percent45CB*-1,'SSP 4.5'],['Cuba',Percent70CB*-1,'SSP 7.0'],\n",
    "           ['Venezuela',Percent26VZ*-1,'SSP 2.6'],['Venezuela',Percent45VZ*-1,'SSP 4.5'],['Venezuela',Percent70VZ*-1,'SSP 7.0'],\n",
    "          ]"
   ]
  },
  {
   "cell_type": "code",
   "execution_count": 41,
   "id": "c63cff73",
   "metadata": {},
   "outputs": [],
   "source": [
    "Dataset = [['Puerto Rico',Percent26PR,'SSP 2.6'],['Puerto Rico',Percent45PR,'SSP 4.5'],['Puerto Rico',Percent70PR,'SSP 7.0'],\n",
    "           ['Belize',Percent26BZ,'SSP 2.6'],['Belize',Percent45BZ,'SSP 4.5'],['Belize',Percent70BZ,'SSP 7.0'],\n",
    "           ['Bahamas',Percent26BH,'SSP 2.6'],['Bahamas',Percent45BH,'SSP 4.5'],['Bahamas',Percent70BH,'SSP 7.0'],\n",
    "           ['Mexico',Percent26MX,'SSP 2.6'],['Mexico',Percent45MX,'SSP 4.5'],['Mexico',Percent70MX,'SSP 7.0'],\n",
    "           ['Florida',Percent26FL,'SSP 2.6'],['Florida',Percent45FL,'SSP 4.5'],['Florida',Percent70FL,'SSP 7.0'],\n",
    "           ['Cuba',Percent26CB,'SSP 2.6'],['Cuba',Percent45CB,'SSP 4.5'],['Cuba',Percent70CB,'SSP 7.0'],\n",
    "           ['Venezuela',Percent26VZ,'SSP 2.6'],['Venezuela',Percent45VZ,'SSP 4.5'],['Venezuela',Percent70VZ,'SSP 7.0'],\n",
    "          ]"
   ]
  },
  {
   "cell_type": "code",
   "execution_count": 47,
   "id": "86edecf6",
   "metadata": {},
   "outputs": [
    {
     "data": {
      "text/html": [
       "<div>\n",
       "<style scoped>\n",
       "    .dataframe tbody tr th:only-of-type {\n",
       "        vertical-align: middle;\n",
       "    }\n",
       "\n",
       "    .dataframe tbody tr th {\n",
       "        vertical-align: top;\n",
       "    }\n",
       "\n",
       "    .dataframe thead th {\n",
       "        text-align: right;\n",
       "    }\n",
       "</style>\n",
       "<table border=\"1\" class=\"dataframe\">\n",
       "  <thead>\n",
       "    <tr style=\"text-align: right;\">\n",
       "      <th></th>\n",
       "      <th>Region</th>\n",
       "      <th>Percent Change</th>\n",
       "      <th>SSP Scenario</th>\n",
       "    </tr>\n",
       "  </thead>\n",
       "  <tbody>\n",
       "    <tr>\n",
       "      <th>0</th>\n",
       "      <td>Puerto Rico</td>\n",
       "      <td>-2.795837</td>\n",
       "      <td>SSP 2.6</td>\n",
       "    </tr>\n",
       "    <tr>\n",
       "      <th>1</th>\n",
       "      <td>Puerto Rico</td>\n",
       "      <td>-6.442745</td>\n",
       "      <td>SSP 4.5</td>\n",
       "    </tr>\n",
       "    <tr>\n",
       "      <th>2</th>\n",
       "      <td>Puerto Rico</td>\n",
       "      <td>-12.785404</td>\n",
       "      <td>SSP 7.0</td>\n",
       "    </tr>\n",
       "    <tr>\n",
       "      <th>3</th>\n",
       "      <td>Belize</td>\n",
       "      <td>-6.394099</td>\n",
       "      <td>SSP 2.6</td>\n",
       "    </tr>\n",
       "    <tr>\n",
       "      <th>4</th>\n",
       "      <td>Belize</td>\n",
       "      <td>-2.877661</td>\n",
       "      <td>SSP 4.5</td>\n",
       "    </tr>\n",
       "    <tr>\n",
       "      <th>5</th>\n",
       "      <td>Belize</td>\n",
       "      <td>-20.771234</td>\n",
       "      <td>SSP 7.0</td>\n",
       "    </tr>\n",
       "    <tr>\n",
       "      <th>6</th>\n",
       "      <td>Bahamas</td>\n",
       "      <td>-2.703039</td>\n",
       "      <td>SSP 2.6</td>\n",
       "    </tr>\n",
       "    <tr>\n",
       "      <th>7</th>\n",
       "      <td>Bahamas</td>\n",
       "      <td>-6.649417</td>\n",
       "      <td>SSP 4.5</td>\n",
       "    </tr>\n",
       "    <tr>\n",
       "      <th>8</th>\n",
       "      <td>Bahamas</td>\n",
       "      <td>-7.321095</td>\n",
       "      <td>SSP 7.0</td>\n",
       "    </tr>\n",
       "    <tr>\n",
       "      <th>9</th>\n",
       "      <td>Mexico</td>\n",
       "      <td>-3.048458</td>\n",
       "      <td>SSP 2.6</td>\n",
       "    </tr>\n",
       "    <tr>\n",
       "      <th>10</th>\n",
       "      <td>Mexico</td>\n",
       "      <td>-3.981789</td>\n",
       "      <td>SSP 4.5</td>\n",
       "    </tr>\n",
       "    <tr>\n",
       "      <th>11</th>\n",
       "      <td>Mexico</td>\n",
       "      <td>-13.594230</td>\n",
       "      <td>SSP 7.0</td>\n",
       "    </tr>\n",
       "    <tr>\n",
       "      <th>12</th>\n",
       "      <td>Florida</td>\n",
       "      <td>-0.967556</td>\n",
       "      <td>SSP 2.6</td>\n",
       "    </tr>\n",
       "    <tr>\n",
       "      <th>13</th>\n",
       "      <td>Florida</td>\n",
       "      <td>-5.850241</td>\n",
       "      <td>SSP 4.5</td>\n",
       "    </tr>\n",
       "    <tr>\n",
       "      <th>14</th>\n",
       "      <td>Florida</td>\n",
       "      <td>-8.918506</td>\n",
       "      <td>SSP 7.0</td>\n",
       "    </tr>\n",
       "    <tr>\n",
       "      <th>15</th>\n",
       "      <td>Cuba</td>\n",
       "      <td>0.171737</td>\n",
       "      <td>SSP 2.6</td>\n",
       "    </tr>\n",
       "    <tr>\n",
       "      <th>16</th>\n",
       "      <td>Cuba</td>\n",
       "      <td>-7.461636</td>\n",
       "      <td>SSP 4.5</td>\n",
       "    </tr>\n",
       "    <tr>\n",
       "      <th>17</th>\n",
       "      <td>Cuba</td>\n",
       "      <td>-11.002415</td>\n",
       "      <td>SSP 7.0</td>\n",
       "    </tr>\n",
       "    <tr>\n",
       "      <th>18</th>\n",
       "      <td>Venezuela</td>\n",
       "      <td>-4.255241</td>\n",
       "      <td>SSP 2.6</td>\n",
       "    </tr>\n",
       "    <tr>\n",
       "      <th>19</th>\n",
       "      <td>Venezuela</td>\n",
       "      <td>-7.309195</td>\n",
       "      <td>SSP 4.5</td>\n",
       "    </tr>\n",
       "    <tr>\n",
       "      <th>20</th>\n",
       "      <td>Venezuela</td>\n",
       "      <td>-15.038306</td>\n",
       "      <td>SSP 7.0</td>\n",
       "    </tr>\n",
       "  </tbody>\n",
       "</table>\n",
       "</div>"
      ],
      "text/plain": [
       "         Region  Percent Change SSP Scenario\n",
       "0   Puerto Rico       -2.795837      SSP 2.6\n",
       "1   Puerto Rico       -6.442745      SSP 4.5\n",
       "2   Puerto Rico      -12.785404      SSP 7.0\n",
       "3        Belize       -6.394099      SSP 2.6\n",
       "4        Belize       -2.877661      SSP 4.5\n",
       "5        Belize      -20.771234      SSP 7.0\n",
       "6       Bahamas       -2.703039      SSP 2.6\n",
       "7       Bahamas       -6.649417      SSP 4.5\n",
       "8       Bahamas       -7.321095      SSP 7.0\n",
       "9        Mexico       -3.048458      SSP 2.6\n",
       "10       Mexico       -3.981789      SSP 4.5\n",
       "11       Mexico      -13.594230      SSP 7.0\n",
       "12      Florida       -0.967556      SSP 2.6\n",
       "13      Florida       -5.850241      SSP 4.5\n",
       "14      Florida       -8.918506      SSP 7.0\n",
       "15         Cuba        0.171737      SSP 2.6\n",
       "16         Cuba       -7.461636      SSP 4.5\n",
       "17         Cuba      -11.002415      SSP 7.0\n",
       "18    Venezuela       -4.255241      SSP 2.6\n",
       "19    Venezuela       -7.309195      SSP 4.5\n",
       "20    Venezuela      -15.038306      SSP 7.0"
      ]
     },
     "execution_count": 47,
     "metadata": {},
     "output_type": "execute_result"
    }
   ],
   "source": [
    "df = pd.DataFrame(Dataset, columns=['Region', 'Percent Change','SSP Scenario'])\n",
    "\n",
    "df\n"
   ]
  },
  {
   "cell_type": "code",
   "execution_count": 52,
   "id": "dfdc9358",
   "metadata": {},
   "outputs": [
    {
     "data": {
      "image/png": "[encoded data removed]",
      "text/plain": [
       "<Figure size 432x288 with 1 Axes>"
      ]
     },
     "metadata": {
      "needs_background": "light"
     },
     "output_type": "display_data"
    }
   ],
   "source": [
    "sns.scatterplot(data=df,x='Region',y='Percent Change',hue='SSP Scenario',palette='Blues')\n",
    "plt.xlabel('')\n",
    "plt.ylim(-22,4)\n",
    "plt.axhline(y=0, color='r', linestyle='-')\n",
    "plt.xticks(rotation=45)\n",
    "plt.ylabel('Percent Coverage Change')\n",
    "plt.legend(loc=(1.04, 0))\n",
    "plt.savefig('/Users/isamarcortes/Dropbox/Isamar/Papers_In_Prep/Paper_1/Figures/FutureP.svg',dpi=600,format='svg',bbox_inches = 'tight')"
   ]
  },
  {
   "cell_type": "markdown",
   "id": "afe1ba0c",
   "metadata": {},
   "source": [
    "## Time series of data"
   ]
  },
  {
   "cell_type": "code",
   "execution_count": null,
   "id": "a87cef66",
   "metadata": {},
   "outputs": [],
   "source": []
  }
 ],
 "metadata": {
  "kernelspec": {
   "display_name": "Python 3 (ipykernel)",
   "language": "python",
   "name": "python3"
  },
  "language_info": {
   "codemirror_mode": {
    "name": "ipython",
    "version": 3
   },
   "file_extension": ".py",
   "mimetype": "text/x-python",
   "name": "python",
   "nbconvert_exporter": "python",
   "pygments_lexer": "ipython3",
   "version": "3.8.13"
  }
 },
 "nbformat": 4,
 "nbformat_minor": 5
}
